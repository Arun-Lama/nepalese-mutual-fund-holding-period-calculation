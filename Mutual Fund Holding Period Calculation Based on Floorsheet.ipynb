{
 "cells": [
  {
   "cell_type": "code",
   "execution_count": 1,
   "id": "f63fa08d",
   "metadata": {},
   "outputs": [],
   "source": [
    "import pandas as pd\n",
    "import numpy as np\n",
    "import math\n",
    "from datetime import datetime"
   ]
  },
  {
   "cell_type": "code",
   "execution_count": 2,
   "id": "056f0ffe",
   "metadata": {},
   "outputs": [],
   "source": [
    "cut_off_date = '2023-08-5'"
   ]
  },
  {
   "cell_type": "code",
   "execution_count": 3,
   "id": "5992cdc4",
   "metadata": {},
   "outputs": [],
   "source": [
    "cut_off_date = datetime.strptime(cut_off_date, '%Y-%m-%d').date()"
   ]
  },
  {
   "cell_type": "code",
   "execution_count": 4,
   "id": "91100fb0",
   "metadata": {},
   "outputs": [],
   "source": [
    "tms_codes = pd.read_excel('C:/Users/arun.lama/Desktop/GIMES1 WACC/New/FINAL checking file.xlsx')\n",
    "tms_ids = tms_codes['tms_clean'].dropna().drop_duplicates()"
   ]
  },
  {
   "cell_type": "code",
   "execution_count": 54,
   "id": "45af6a33",
   "metadata": {},
   "outputs": [],
   "source": [
    "data= pd.read_excel('C:/Users/arun.lama/Desktop/GIMES1 WACC/new/GIMES1 Floorsheet AFTER ADDING IPO DATA.xlsm')\n",
    "data['CONTRACT_DATE'] = pd.to_datetime(data['CONTRACT_DATE'])"
   ]
  },
  {
   "cell_type": "code",
   "execution_count": 6,
   "id": "d0cfd497",
   "metadata": {},
   "outputs": [],
   "source": [
    "# tms_ids = ['0','20210408878']"
   ]
  },
  {
   "cell_type": "code",
   "execution_count": 7,
   "id": "59858d92",
   "metadata": {
    "scrolled": true
   },
   "outputs": [],
   "source": [
    "all_info = []\n",
    "for index, each_client in  enumerate(tms_ids):\n",
    "    indi_data = data.copy()\n",
    "    # 2021038995\n",
    "    indi_data = indi_data[indi_data['TMS_CLIENT_CODE'] == each_client]\n",
    "    indi_data.sort_values(by = ['CONTRACT_DATE'], ascending= True, inplace = True)\n",
    "    floor_sht = indi_data\n",
    "    indi_data['Quantity_buy_sell'] = np.where((indi_data['BUY_OR_SELL'] == \"Sell\"), indi_data['CONTRACT_QUANTITY'], -indi_data['CONTRACT_QUANTITY'])\n",
    "    # ### If client has shares from IPO and buy only, no sell\n",
    "    if set(indi_data['BUY_OR_SELL'].unique()).issubset(['Buy', 'IPO']) == True:\n",
    "        indi_data['holding period'] = cut_off_date  - indi_data['CONTRACT_DATE'].dt.date\n",
    "        indi_data['LongtermShortterm'] = np.where(indi_data['holding period'] > pd.Timedelta(days=365), 'Long Term', 'Short Term' )\n",
    "        long_term = indi_data[indi_data['LongtermShortterm'] == 'Long Term']['CONTRACT_QUANTITY'].sum()\n",
    "        short_term = indi_data[indi_data['LongtermShortterm'] == 'Short Term']['CONTRACT_QUANTITY'].sum()\n",
    "        remarks = 'client has shares from IPO and buy only, no sell'\n",
    "        condition = 1\n",
    "        print('1',f'{each_client}, short term: {short_term}, long term: {long_term}')\n",
    "    # ### If client has sell and IPO only, no buy\n",
    "    elif  set(indi_data['BUY_OR_SELL'].unique()).issubset(['Sell', 'IPO']) == True:\n",
    "        long_term = -indi_data['Quantity_buy_sell'].cumsum().iloc[-1]\n",
    "        short_term = 0\n",
    "        remarks = \"client has sell and IPO only, no buy\"\n",
    "        print('2',f'{each_client}, short term: {short_term}, long term: {long_term}')\n",
    "        condition = 1\n",
    "    ### If client has/has not IPO, buy, and sell trades\n",
    "    else:\n",
    "        indi_data =  indi_data[[ 'ClientFullName', 'TMS_CLIENT_CODE', 'BUY_OR_SELL', 'CONTRACT_DATE','CONTRACT_QUANTITY', 'Quantity_buy_sell']]\n",
    "        total_sell_qty = indi_data[indi_data['BUY_OR_SELL'] == 'Sell']['CONTRACT_QUANTITY'].sum()\n",
    "        buy = indi_data[indi_data['BUY_OR_SELL'].isin(['Buy', 'IPO'])].copy()\n",
    "        new_row = {'Quantity_buy_sell': total_sell_qty}\n",
    "        buy.loc[-1] = new_row\n",
    "        buy.index = buy.index + 1\n",
    "        buy.sort_values(by = 'CONTRACT_DATE', na_position= 'first', inplace = True)\n",
    "        buy['cum_sum_qty'] = buy['Quantity_buy_sell'].cumsum()\n",
    "        remaining_stocks = buy[buy['cum_sum_qty']<0].copy()\n",
    "        remaining_stocks['holding period'] = cut_off_date  - remaining_stocks['CONTRACT_DATE'].dt.date\n",
    "        remaining_stocks['LongtermShortterm'] = np.where(remaining_stocks['holding period'] > pd.Timedelta(days=365), 'Long Term', 'Short Term' )\n",
    "        if len(remaining_stocks) ==0 :\n",
    "            long_term = 'error'\n",
    "            short_term = 'error'\n",
    "        else:\n",
    "            if (remaining_stocks['LongtermShortterm'] == 'Long Term').all() == True:\n",
    "                long_term = -remaining_stocks['cum_sum_qty'].iloc[-1]\n",
    "                short_term = 0\n",
    "            elif (remaining_stocks['LongtermShortterm'] == 'Short Term').all() == True:\n",
    "                long_term = 0\n",
    "                short_term =- remaining_stocks['cum_sum_qty'].iloc[-1]\n",
    "            else:\n",
    "                if len(remaining_stocks) == 2:\n",
    "                    long_term = -remaining_stocks['Quantity_buy_sell'].iloc[0]\n",
    "                    short_term = -remaining_stocks['Quantity_buy_sell'].iloc[1]\n",
    "                else:\n",
    "                    long_term = st = -remaining_stocks[remaining_stocks['LongtermShortterm'] == 'Long Term'].iloc[1:]['Quantity_buy_sell'].sum() - remaining_stocks['cum_sum_qty'].iloc[0] \n",
    "                    short_term = st = -remaining_stocks[remaining_stocks['LongtermShortterm'] == 'Short Term'].iloc[1:]['Quantity_buy_sell'].sum() - remaining_stocks['cum_sum_qty'].iloc[0]\n",
    "\n",
    "        condition = 3\n",
    "        print('3',f'{each_client}, short term: {short_term}, long term: {long_term}')\n",
    "        \n",
    "        \n",
    "    remarks = \"client has/does not IPO, buy, and sell trades\"\n",
    "    info = {'ClientID' : each_client,\n",
    "        'Long Term' : long_term,\n",
    "        'Short Term'     : short_term,\n",
    "        'Remarks' : remarks\n",
    "       }\n",
    "    all_info.append(info)\n",
    "    writer = pd.ExcelWriter(f'C:/Users/arun.lama/Desktop/GIMES1 WACC/New/HOLDINGS/{each_client}.xlsx', engine='openpyxl')\n",
    "    \n",
    "    if condition == 1:\n",
    "        floor_sht.to_excel(writer, sheet_name='floorsheet', index=False)\n",
    "    else:\n",
    "        floor_sht.to_excel(writer, sheet_name='floorsheet', index=False)\n",
    "        buy.to_excel(writer, sheet_name='FIFO Sales', index=False)\n",
    "        remaining_stocks.to_excel(writer, sheet_name='Holdings', index=False)\n",
    "\n",
    "    # Save and close the Excel writer for each loop iteration\n",
    "    writer.save()\n",
    "    writer.close()"
   ]
  },
  {
   "cell_type": "code",
   "execution_count": 8,
   "id": "2274fe3b",
   "metadata": {},
   "outputs": [],
   "source": [
    "final = pd.DataFrame.from_dict(all_info)\n",
    "# final['Total'] = final['Long Term'] - final['Short Term']\n",
    "final.to_csv('GIMES1 Holding Period python.csv')"
   ]
  }
 ],
 "metadata": {
  "kernelspec": {
   "display_name": "Python 3 (ipykernel)",
   "language": "python",
   "name": "python3"
  },
  "language_info": {
   "codemirror_mode": {
    "name": "ipython",
    "version": 3
   },
   "file_extension": ".py",
   "mimetype": "text/x-python",
   "name": "python",
   "nbconvert_exporter": "python",
   "pygments_lexer": "ipython3",
   "version": "3.11.3"
  }
 },
 "nbformat": 4,
 "nbformat_minor": 5
}
